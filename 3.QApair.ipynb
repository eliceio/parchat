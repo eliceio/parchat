{
 "cells": [
  {
   "cell_type": "code",
   "execution_count": null,
   "metadata": {
    "collapsed": true
   },
   "outputs": [],
   "source": [
    "import numpy as np\n",
    "import json"
   ]
  },
  {
   "cell_type": "code",
   "execution_count": null,
   "metadata": {
    "collapsed": true
   },
   "outputs": [],
   "source": [
    "pokr = pd.read_json('./pokr.json')\n",
    "member = pd.read_json('./member.json')"
   ]
  },
  {
   "cell_type": "code",
   "execution_count": null,
   "metadata": {
    "collapsed": true
   },
   "outputs": [],
   "source": [
    "pokr = pokr[['content','person_id','meeting_id']]\n",
    "member = member[['person_id','party']]\n",
    "member['person_id'] = member['person_id'].astype(float)\n",
    "merge_data = pd.merge(pokr, member, how = 'left', on = 'person_id')"
   ]
  },
  {
   "cell_type": "code",
   "execution_count": null,
   "metadata": {
    "collapsed": true
   },
   "outputs": [],
   "source": [
    "meet_dic = {}"
   ]
  },
  {
   "cell_type": "markdown",
   "metadata": {},
   "source": [
    "# meet_dic에 회의별로 발언, 발언자, 정당 저장"
   ]
  },
  {
   "cell_type": "code",
   "execution_count": null,
   "metadata": {
    "collapsed": true
   },
   "outputs": [],
   "source": [
    "for row in merge_data.iterrows():\n",
    "    content = row[1]['content']\n",
    "    p_id = row[1]['person_id']\n",
    "    party = row[1]['party']\n",
    "    meet_id = row[1]['meeting_id']\n",
    "    \n",
    "    real_content = (re.sub('[=……ㆍ◎,◯!―()\\n]', '', content))\n",
    "   \n",
    "    meet_dic.setdefault(meet_id,[])\n",
    "    \n",
    "    meet_dic[meet_id].append([real_content,p_id,party])"
   ]
  },
  {
   "cell_type": "code",
   "execution_count": null,
   "metadata": {
    "collapsed": true
   },
   "outputs": [],
   "source": [
    "with open('meet_dic.json', 'w') as fp:\n",
    "    json.dump(meet_dic, fp)"
   ]
  },
  {
   "cell_type": "code",
   "execution_count": null,
   "metadata": {
    "collapsed": true
   },
   "outputs": [],
   "source": [
    "with open('meet_dic.json', 'r') as fp:\n",
    "    meet_dic = json.load(fp)"
   ]
  },
  {
   "cell_type": "markdown",
   "metadata": {},
   "source": [
    "# con은 보수, pro는 진보, all은 전체"
   ]
  },
  {
   "cell_type": "code",
   "execution_count": null,
   "metadata": {
    "collapsed": true
   },
   "outputs": [],
   "source": [
    "con_Q = []\n",
    "con_A = []\n",
    "\n",
    "pro_Q = []\n",
    "pro_A = []\n",
    "\n",
    "pro_Q_plus = []\n",
    "pro_A_plus = []\n",
    "\n",
    "con_Q_plus = []\n",
    "con_A_plus = []"
   ]
  },
  {
   "cell_type": "code",
   "execution_count": null,
   "metadata": {
    "collapsed": true
   },
   "outputs": [],
   "source": [
    "progress = set([1,2,3,4]) #진보 1,2,3,4\n",
    "conser = set([0,5,6]) #보수 0,5,6"
   ]
  },
  {
   "cell_type": "markdown",
   "metadata": {},
   "source": [
    "# 발언 길이가 200이하, 속한 정당이 있어야하고(nan은 장관 등.) 발언자가 위원장이 아니면 추가"
   ]
  },
  {
   "cell_type": "code",
   "execution_count": null,
   "metadata": {
    "collapsed": true
   },
   "outputs": [],
   "source": [
    "for key in meet_dic.keys():\n",
    "    Q_pro = []\n",
    "    A_pro = []\n",
    "    \n",
    "    Q_con = []\n",
    "    A_con = []\n",
    "    lead_id = meet_dic[key][0][1]\n",
    "    \n",
    "    for i in range(1,len(meet_dic[key])-2,2):\n",
    "        comment = meet_dic[key][i][0]\n",
    "        person_id = meet_dic[key][i][1]\n",
    "        party = meet_dic[key][i][2]\n",
    "        \n",
    "        next_comment = meet_dic[key][i+1][0]\n",
    "        next_person_id = meet_dic[key][i+1][1]\n",
    "        next_party = meet_dic[key][i+1][2]\n",
    "        \n",
    "        if person_id != lead_id and next_person_id != lead_id:\n",
    "            if len(comment) <=200 and len(comment) >0 and len(next_comment)>0 and len(next_comment) <= 200:\n",
    "                if np.isnan(party) == False and np.isnan(next_party) ==False :\n",
    "                    if next_party in progress:\n",
    "                        Q_pro.append([comment,person_id])\n",
    "                        A_pro.append([next_comment,next_person_id])\n",
    "                    \n",
    "                    if next_party in conser:\n",
    "                        Q_con.append([comment,person_id])\n",
    "                        A_con.append([next_comment,next_person_id])\n",
    "    \n",
    "    pro_Q.extend(Q_pro)\n",
    "    pro_A.extend(A_pro)\n",
    "    con_Q.extend(Q_con)\n",
    "    con_A.extend(A_con)\n",
    "    \n",
    "    pro_Q_plus.extend(A_con[:-1])\n",
    "    pro_A_plus.extend(Q_con[1:])\n",
    "    con_Q_plus.extend(A_pro[:-1])\n",
    "    con_A_plus.extend(Q_pro[1:])\n",
    "    "
   ]
  },
  {
   "cell_type": "code",
   "execution_count": null,
   "metadata": {
    "collapsed": true
   },
   "outputs": [],
   "source": [
    "con_Q = con_Q + con_Q_plus\n",
    "con_A = con_A + con_A_plus\n",
    "\n",
    "pro_Q = pro_Q + pro_Q_plus\n",
    "pro_A = pro_A + pro_A_plus"
   ]
  },
  {
   "cell_type": "code",
   "execution_count": null,
   "metadata": {
    "collapsed": true
   },
   "outputs": [],
   "source": [
    "with open('con_Q.json', 'w') as fp:\n",
    "    json.dump(con_Q, fp)\n",
    "with open('con_A.json', 'w') as fp:\n",
    "    json.dump(con_A, fp)\n",
    "with open('pro_Q.json', 'w') as fp:\n",
    "    json.dump(pro_Q, fp)\n",
    "with open('pro_A.json', 'w') as fp:\n",
    "    json.dump(pro_A, fp)"
   ]
  },
  {
   "cell_type": "code",
   "execution_count": null,
   "metadata": {
    "collapsed": true
   },
   "outputs": [],
   "source": [
    "all_Q = con_Q + pro_Q\n",
    "all_A = con_A + pro_A"
   ]
  },
  {
   "cell_type": "code",
   "execution_count": null,
   "metadata": {
    "collapsed": true
   },
   "outputs": [],
   "source": [
    "with open('all_Q.json', 'w') as fp:\n",
    "    json.dump(all_Q, fp)\n",
    "with open('all_A.json', 'w') as fp:\n",
    "    json.dump(all_A, fp)"
   ]
  }
 ],
 "metadata": {
  "kernelspec": {
   "display_name": "Python 3",
   "language": "python",
   "name": "python3"
  },
  "language_info": {
   "codemirror_mode": {
    "name": "ipython",
    "version": 3
   },
   "file_extension": ".py",
   "mimetype": "text/x-python",
   "name": "python",
   "nbconvert_exporter": "python",
   "pygments_lexer": "ipython3",
   "version": "3.6.0"
  }
 },
 "nbformat": 4,
 "nbformat_minor": 2
}
