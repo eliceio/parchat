{
 "cells": [
  {
   "cell_type": "markdown",
   "metadata": {},
   "source": [
    "# 국회의원들의 나이, 이름, 소속정당 정보를 크롤링"
   ]
  },
  {
   "cell_type": "code",
   "execution_count": 1,
   "metadata": {
    "collapsed": true
   },
   "outputs": [],
   "source": [
    "import requests\n",
    "from bs4 import BeautifulSoup\n",
    "import json"
   ]
  },
  {
   "cell_type": "code",
   "execution_count": 2,
   "metadata": {
    "collapsed": true
   },
   "outputs": [],
   "source": [
    "main_url = 'http://pokr.kr/person/'\n",
    "full_html = requests.get(main_url)\n",
    "full_soup = BeautifulSoup(full_html.text, 'lxml')"
   ]
  },
  {
   "cell_type": "code",
   "execution_count": 3,
   "metadata": {
    "collapsed": true
   },
   "outputs": [],
   "source": [
    "link_list = full_soup.find_all(class_='person-link')"
   ]
  },
  {
   "cell_type": "code",
   "execution_count": 4,
   "metadata": {
    "collapsed": true
   },
   "outputs": [],
   "source": [
    "items = []"
   ]
  },
  {
   "cell_type": "code",
   "execution_count": 5,
   "metadata": {
    "collapsed": true,
    "scrolled": false
   },
   "outputs": [],
   "source": [
    "for i in range(len(link_list)):\n",
    "    url = 'http://pokr.kr/'+str(link_list[i].attrs['href'])\n",
    "    person_id = (str(link_list[i].attrs['href'])[8:])\n",
    "    code = requests.get(url)\n",
    "    code_txt = code.text\n",
    "    soup = BeautifulSoup(code_txt, 'html.parser')\n",
    "    \n",
    "    name = (soup.find_all('title')[0].text)[1:4]\n",
    "    party = 7\n",
    "    sub = soup.find_all('tr')\n",
    "    age = int(str(sub[0])[38:42])\n",
    "    check =str(sub[1])[:150]\n",
    "               \n",
    "    if '새누리당' in check:\n",
    "        party = 0\n",
    "    if '새정치민주연합' in check:\n",
    "        party = 1\n",
    "    if '통합진보당' in check:\n",
    "        party = 2\n",
    "    if '민주통합당' in check:\n",
    "        party = 3\n",
    "    if '정의당' in check:\n",
    "        party = 4\n",
    "    if '무소속' in check:\n",
    "        party = 5\n",
    "    if '자유선진당' in check:\n",
    "        party = 6\n",
    "\n",
    "\n",
    "    item = {'name' : name,\n",
    "            'age' : age,\n",
    "            'party' : party,\n",
    "            'person_id' : float(person_id)}\n",
    "\n",
    "    items.append(item)"
   ]
  },
  {
   "cell_type": "code",
   "execution_count": 6,
   "metadata": {},
   "outputs": [
    {
     "data": {
      "text/plain": [
       "303"
      ]
     },
     "execution_count": 6,
     "metadata": {},
     "output_type": "execute_result"
    }
   ],
   "source": [
    "len(items)"
   ]
  },
  {
   "cell_type": "code",
   "execution_count": 12,
   "metadata": {},
   "outputs": [
    {
     "data": {
      "text/plain": [
       "{'age': 1960, 'name': '강기윤', 'party': 0, 'person_id': 19601167.0}"
      ]
     },
     "execution_count": 12,
     "metadata": {},
     "output_type": "execute_result"
    }
   ],
   "source": [
    "items[0]"
   ]
  },
  {
   "cell_type": "code",
   "execution_count": 75,
   "metadata": {
    "collapsed": true
   },
   "outputs": [],
   "source": [
    "with open('member.json', 'w') as fp:\n",
    "    json.dump(items, fp)"
   ]
  }
 ],
 "metadata": {
  "kernelspec": {
   "display_name": "Python 3",
   "language": "python",
   "name": "python3"
  },
  "language_info": {
   "codemirror_mode": {
    "name": "ipython",
    "version": 3
   },
   "file_extension": ".py",
   "mimetype": "text/x-python",
   "name": "python",
   "nbconvert_exporter": "python",
   "pygments_lexer": "ipython3",
   "version": "3.6.0"
  }
 },
 "nbformat": 4,
 "nbformat_minor": 2
}
