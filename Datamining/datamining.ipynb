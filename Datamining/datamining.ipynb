{
 "cells": [
  {
   "cell_type": "markdown",
   "metadata": {},
   "source": [
    "# Import"
   ]
  },
  {
   "cell_type": "code",
   "execution_count": null,
   "metadata": {
    "collapsed": true
   },
   "outputs": [],
   "source": [
    "import numpy\n",
    "import pandas as pd\n",
    "import json\n",
    "from konlpy.tag import Kkma, Twitter\n",
    "from collections import Counter\n",
    "import pytagcloud\n",
    "import re\n",
    "import gensim\n",
    "import hanja"
   ]
  },
  {
   "cell_type": "markdown",
   "metadata": {
    "collapsed": true
   },
   "source": [
    "# 데이터 로드, 회의 발언과 정당 데이터 Join"
   ]
  },
  {
   "cell_type": "code",
   "execution_count": null,
   "metadata": {
    "collapsed": true
   },
   "outputs": [],
   "source": [
    "file_name = './pokr.json'\n",
    "data = pd.read_json(file_name)\n",
    "file_name2 = './member.json'\n",
    "data2 = pd.read_json(file_name2)"
   ]
  },
  {
   "cell_type": "code",
   "execution_count": null,
   "metadata": {
    "collapsed": true
   },
   "outputs": [],
   "source": [
    "data = data[['content','person_id']]\n",
    "data2 = data2[['person_id','party']]\n",
    "data2['person_id'] = data2['person_id'].astype(float)"
   ]
  },
  {
   "cell_type": "code",
   "execution_count": null,
   "metadata": {
    "collapsed": true
   },
   "outputs": [],
   "source": [
    "merge_data = pd.merge(data, data2, how ='left', on='person_id')"
   ]
  },
  {
   "cell_type": "markdown",
   "metadata": {},
   "source": [
    "# stop_words생성, 발언들을 형태소 단위로 나눠서 저장"
   ]
  },
  {
   "cell_type": "code",
   "execution_count": null,
   "metadata": {
    "collapsed": true
   },
   "outputs": [],
   "source": [
    "Tw = Twitter()\n",
    "stop_words = set(['제','냐고','%','마니','까','까거','니까는','=','님','……','서','야','도','엔','가','감','수','요','시'])"
   ]
  },
  {
   "cell_type": "code",
   "execution_count": null,
   "metadata": {
    "collapsed": true,
    "scrolled": true
   },
   "outputs": [],
   "source": [
    "progress = [1,2,3,4] #진보 1,2,3,4\n",
    "conser = [0,5,6] #보수 0,5,6\n",
    "\n",
    "all_comment = [] #전체 발언\n",
    "comment_pro = [] #진보 정당 발언\n",
    "comment_con = [] #보수 정당 발언\n",
    "        \n",
    "for row in merge_data.iterrows():\n",
    "    content = row[1]['content']\n",
    "    party = row[1]['party']\n",
    "    real_content = (re.sub('[ㆍ◎?,◯!.―()\\n]', '', content))\n",
    "    \n",
    "    morphs = Tw.morphs(real_content)\n",
    "    \n",
    "    all_comment.append([word for word in (morphs) if word not in stop_words])\n",
    "    \n",
    "    if party in progress:\n",
    "        comment_pro.append([word for word in morphs if word not in stop_words])\n",
    "    if party in conser:\n",
    "        comment_con.append([word for word in morphs if word not in stop_words])\n",
    "    "
   ]
  },
  {
   "cell_type": "code",
   "execution_count": null,
   "metadata": {
    "collapsed": true
   },
   "outputs": [],
   "source": [
    "with open('all_comment.json', 'w') as fp:\n",
    "    json.dump(all_comment, fp)\n",
    "with open('comment_pro.json', 'w') as fp:\n",
    "    json.dump(comment_pro, fp)\n",
    "with open('comment_con.json', 'w') as fp:\n",
    "    json.dump(comment_con, fp)"
   ]
  },
  {
   "cell_type": "markdown",
   "metadata": {},
   "source": [
    "# Skip-gram 모델 생성, 차원은 200차원 10개 미만으로 나타난 단어는 무시"
   ]
  },
  {
   "cell_type": "code",
   "execution_count": null,
   "metadata": {
    "collapsed": true
   },
   "outputs": [],
   "source": [
    "all_commentmodel = gensim.models.Word2Vec(all_comment,size=200,min_count=10, sg=1)\n",
    "model_con = gensim.models.Word2Vec(comment_con, size = 200, min_count=10,sg=1)\n",
    "model_pro = gensim.models.Word2Vec(comment_pro,size = 200, min_count=10, sg=1) "
   ]
  },
  {
   "cell_type": "code",
   "execution_count": null,
   "metadata": {
    "collapsed": true
   },
   "outputs": [],
   "source": [
    "all_commentmodel.most_similar('방범')"
   ]
  },
  {
   "cell_type": "code",
   "execution_count": null,
   "metadata": {
    "collapsed": true
   },
   "outputs": [],
   "source": [
    "model_pro.wv['국회']"
   ]
  },
  {
   "cell_type": "code",
   "execution_count": null,
   "metadata": {
    "collapsed": true
   },
   "outputs": [],
   "source": [
    "all_commentmodel.most_similar(positive=['새누리당', '야당'],negative=['민주당'])"
   ]
  },
  {
   "cell_type": "code",
   "execution_count": null,
   "metadata": {
    "collapsed": true
   },
   "outputs": [],
   "source": [
    "all_commentmodel.save('all_comment.json')\n",
    "model_pro.save('comment_pro.json')\n",
    "model_con.save('comment_con.json')"
   ]
  },
  {
   "cell_type": "code",
   "execution_count": null,
   "metadata": {
    "collapsed": true,
    "scrolled": true
   },
   "outputs": [],
   "source": [
    "'''\n",
    "Word Cloud\n",
    "all_comment_sum = []\n",
    "for i in all_comment:\n",
    "    all_comment_sum.extend(i)\n",
    "\n",
    "count = Counter(all_comment_sum)\n",
    "tag = (count.most_common(10))\n",
    "taglist = pytagcloud.make_tags(tag, maxsize = 70)\n",
    "pytagcloud.create_tag_image(taglist, 'wordcloud.jpg', size=(700,500), fontname=\"Korean\", rectangular=False)\n",
    "\n",
    "'''"
   ]
  }
 ],
 "metadata": {
  "kernelspec": {
   "display_name": "Python 3",
   "language": "python",
   "name": "python3"
  },
  "language_info": {
   "codemirror_mode": {
    "name": "ipython",
    "version": 3
   },
   "file_extension": ".py",
   "mimetype": "text/x-python",
   "name": "python",
   "nbconvert_exporter": "python",
   "pygments_lexer": "ipython3",
   "version": "3.6.0"
  }
 },
 "nbformat": 4,
 "nbformat_minor": 2
}
