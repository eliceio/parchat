{
 "cells": [
  {
   "cell_type": "code",
   "execution_count": 1,
   "metadata": {
    "collapsed": true
   },
   "outputs": [],
   "source": [
    "import numpy as np\n",
    "import pandas as pd\n",
    "import json\n",
    "from konlpy.tag import Kkma, Twitter\n",
    "from collections import Counter\n",
    "import gensim\n",
    "import re\n",
    "from gensim import corpora"
   ]
  },
  {
   "cell_type": "code",
   "execution_count": 2,
   "metadata": {
    "collapsed": true
   },
   "outputs": [],
   "source": [
    "word2vecmodel = gensim.models.Word2Vec.load('./word2vecmodel')\n",
    "ldamodel =  gensim.models.ldamodel.LdaModel.load('./ldamodel')\n",
    "dictionary = corpora.Dictionary.load('ldamodel.id2word')\n",
    "Tw = Twitter()"
   ]
  },
  {
   "cell_type": "code",
   "execution_count": 3,
   "metadata": {
    "collapsed": true
   },
   "outputs": [],
   "source": [
    "with open('con_Q.json', 'r') as fp:\n",
    "    con_Q= json.load(fp)\n",
    "with open('con_A.json', 'r') as fp:\n",
    "    con_A= json.load(fp)\n",
    "with open('pro_Q.json', 'r') as fp:\n",
    "    pro_Q= json.load(fp)\n",
    "with open('pro_A.json', 'r') as fp:\n",
    "    pro_A= json.load(fp)\n",
    "    \n",
    "with open('all_A.json','r') as fp:\n",
    "    all_A = json.load(fp)\n",
    "with open('all_Q.json','r') as fp:\n",
    "    all_Q = json.load(fp)"
   ]
  },
  {
   "cell_type": "code",
   "execution_count": 68,
   "metadata": {
    "collapsed": true
   },
   "outputs": [],
   "source": [
    "member = pd.read_json('member.json')"
   ]
  },
  {
   "cell_type": "code",
   "execution_count": 4,
   "metadata": {
    "collapsed": true
   },
   "outputs": [],
   "source": [
    "con_Q_part = {}\n",
    "con_A_part = {}\n",
    "\n",
    "pro_Q_part = {}\n",
    "pro_A_part = {}\n",
    "\n",
    "\n",
    "all_Q_part = {}\n",
    "all_A_part = {}"
   ]
  },
  {
   "cell_type": "code",
   "execution_count": 4,
   "metadata": {
    "collapsed": true
   },
   "outputs": [],
   "source": [
    "con_A_part_name = {}\n",
    "\n",
    "pro_A_part_name = {}\n",
    "\n",
    "all_A_part_name = {}"
   ]
  },
  {
   "cell_type": "markdown",
   "metadata": {},
   "source": [
    "# LDA를 통해 발언들은 주제 별로 part(30개)  나누어서 저장, LDA 확률이 같으면 별도의 31번 째 part에 저장"
   ]
  },
  {
   "cell_type": "code",
   "execution_count": null,
   "metadata": {
    "collapsed": true
   },
   "outputs": [],
   "source": [
    "#모든 파트가 동일한 확률 일 때 check가 0 아니면 1"
   ]
  },
  {
   "cell_type": "code",
   "execution_count": 5,
   "metadata": {
    "collapsed": true
   },
   "outputs": [],
   "source": [
    "#part를 정해주는 함수\n",
    "def checkpart(Q):\n",
    "    nouns = Tw.nouns(Q)\n",
    "    \n",
    "    topics = ldamodel.get_document_topics(dictionary.doc2bow(nouns))\n",
    "\n",
    "    max_prob = round(topics[0][1], 5)\n",
    "    temp_prob = round(topics[0][1], 5)\n",
    "    max_part = topics[0][0]\n",
    "    \n",
    "    check = 0\n",
    "\n",
    "    for i in range(1,len(topics)):\n",
    "        if round(topics[i][1], 5) != temp_prob:\n",
    "            check = 1\n",
    "            break\n",
    "    \n",
    "    if check == 0:\n",
    "        return(30)\n",
    "\n",
    "    if check == 1:\n",
    "        for part,prob in topics:\n",
    "            if round(prob,5) > max_prob:\n",
    "                max_prob = round(prob,5)\n",
    "                max_part = part\n",
    "    \n",
    "        return(max_part)"
   ]
  },
  {
   "cell_type": "code",
   "execution_count": null,
   "metadata": {
    "collapsed": true
   },
   "outputs": [],
   "source": [
    "for i in range(len(con_Q)):\n",
    "    Q = con_Q[i][0]\n",
    "    A = con_A[i][0]\n",
    "    part = checkpart(Q)\n",
    "    \n",
    "    con_Q_part.setdefault(part,[])\n",
    "    con_Q_part[part].append(Q)\n",
    "    \n",
    "    con_A_part.setdefault(part,[])\n",
    "    con_A_part[part].append(A)\n",
    "    \n",
    "for i in range(len(pro_Q)):\n",
    "    Q = pro_Q[i][0]\n",
    "    A = pro_A[i][0]\n",
    "    part = checkpart(Q)\n",
    "    \n",
    "    pro_Q_part.setdefault(part,[])\n",
    "    pro_Q_part[part].append(Q)\n",
    "    \n",
    "    pro_A_part.setdefault(part,[])\n",
    "    pro_A_part[part].append(A)\n",
    "    \n",
    "for i in range(len(all_Q)):\n",
    "    Q = all_Q[i][0]\n",
    "    A = all_A[i][0]\n",
    "    part = checkpart(Q)\n",
    "    \n",
    "    all_Q_part.setdefault(part,[])\n",
    "    all_Q_part[part].append(Q)\n",
    "    \n",
    "    all_A_part.setdefault(part,[])\n",
    "    all_A_part[part].append(A)"
   ]
  },
  {
   "cell_type": "code",
   "execution_count": 20,
   "metadata": {
    "collapsed": true
   },
   "outputs": [],
   "source": [
    "with open('con_Q_part.json','w') as fp:\n",
    "    json.dump(con_Q_part,fp)\n",
    "with open('con_A_part.json','w') as fp:\n",
    "    json.dump(con_A_part,fp)\n",
    "with open('pro_Q_part.json','w') as fp:\n",
    "    json.dump(pro_Q_part,fp)\n",
    "with open('pro_A_part.json','w') as fp:\n",
    "    json.dump(pro_A_part,fp)\n",
    "    \n",
    "with open('all_Q_part.json','w') as fp:\n",
    "    json.dump(all_Q_part, fp)\n",
    "with open('all_A_part.json','w') as fp:\n",
    "    json.dump(all_A_part, fp)"
   ]
  }
 ],
 "metadata": {
  "kernelspec": {
   "display_name": "Python 3",
   "language": "python",
   "name": "python3"
  },
  "language_info": {
   "codemirror_mode": {
    "name": "ipython",
    "version": 3
   },
   "file_extension": ".py",
   "mimetype": "text/x-python",
   "name": "python",
   "nbconvert_exporter": "python",
   "pygments_lexer": "ipython3",
   "version": "3.6.0"
  }
 },
 "nbformat": 4,
 "nbformat_minor": 2
}
