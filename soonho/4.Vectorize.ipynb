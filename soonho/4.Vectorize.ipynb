{
 "cells": [
  {
   "cell_type": "code",
   "execution_count": 1,
   "metadata": {
    "collapsed": true
   },
   "outputs": [],
   "source": [
    "import numpy as np\n",
    "import pandas as pd\n",
    "import json\n",
    "from konlpy.tag import Kkma, Twitter\n",
    "import gensim\n",
    "import re\n",
    "from gensim import corpora"
   ]
  },
  {
   "cell_type": "code",
   "execution_count": 2,
   "metadata": {
    "collapsed": true
   },
   "outputs": [],
   "source": [
    "word2vecmodel = gensim.models.Word2Vec.load('./word2vecmodel')\n",
    "ldamodel =  gensim.models.ldamodel.LdaModel.load('./ldamodel')\n",
    "dictionary = corpora.Dictionary.load('ldamodel.id2word')\n",
    "Tw = Twitter()"
   ]
  },
  {
   "cell_type": "code",
   "execution_count": 3,
   "metadata": {
    "collapsed": true
   },
   "outputs": [],
   "source": [
    "with open('con_Q_part.json','r') as fp:\n",
    "    con_Q_part = json.load(fp)\n",
    "with open('con_A_part.json','r') as fp:\n",
    "    con_A_part = json.load(fp)\n",
    "with open('pro_Q_part.json','r') as fp:\n",
    "    pro_Q_part = json.load(fp)\n",
    "with open('pro_A_part.json','r') as fp:\n",
    "    pro_A_part = json.load(fp)\n",
    "    \n",
    "with open('all_Q_part.json','r') as fp:\n",
    "    all_Q_part = json.load(fp)\n",
    "with open('all_A_part.json','r') as fp:\n",
    "    all_A_part = json.load(fp)"
   ]
  },
  {
   "cell_type": "code",
   "execution_count": 6,
   "metadata": {
    "collapsed": true
   },
   "outputs": [],
   "source": [
    "con_Q_part_vec = {}\n",
    "con_A_part_vec = {}\n",
    "pro_Q_part_vec = {}\n",
    "pro_A_part_vec = {}"
   ]
  },
  {
   "cell_type": "code",
   "execution_count": 7,
   "metadata": {
    "collapsed": true
   },
   "outputs": [],
   "source": [
    "all_Q_part_vec = {}\n",
    "all_A_part_vec = {}"
   ]
  },
  {
   "cell_type": "markdown",
   "metadata": {},
   "source": [
    "# Word2vec 200차원 벡터를 리턴 해주는 함수"
   ]
  },
  {
   "cell_type": "code",
   "execution_count": 8,
   "metadata": {
    "collapsed": true
   },
   "outputs": [],
   "source": [
    "def return_word2veclist(morphs_Q, morphs_A):\n",
    "    k_Q = []\n",
    "    k_A = []\n",
    "    \n",
    "    for word in morphs_Q:\n",
    "        try :\n",
    "            k_Q.append(word2vecmodel.wv[word])\n",
    "        except:\n",
    "            k_Q.append(np.zeros(200))\n",
    "            \n",
    "    for word in morphs_A:\n",
    "        try:\n",
    "            k_A.append(word2vecmodel.wv[word])\n",
    "        except:\n",
    "            k_A.append(np.zeros(200))\n",
    "            \n",
    "    k_Q = np.array(k_Q)\n",
    "    k_A = np.array(k_A)\n",
    "    \n",
    "    vec_Q = np.zeros(200)\n",
    "    vec_A = np.zeros(200)        \n",
    "\n",
    "    for j in range(len(vec_Q)):\n",
    "        vec_Q[j] = (np.mean(k_Q[:,j]))\n",
    "        vec_A[j] = (np.mean(k_A[:,j]))\n",
    "    \n",
    "    return(vec_Q, vec_A)"
   ]
  },
  {
   "cell_type": "markdown",
   "metadata": {},
   "source": [
    "# LDA 30차원 벡터를 리턴 해주는 함수 "
   ]
  },
  {
   "cell_type": "code",
   "execution_count": 9,
   "metadata": {
    "collapsed": true
   },
   "outputs": [],
   "source": [
    "def return_ldalist(nouns_Q ,nouns_A):\n",
    "\n",
    "    doc2bow_Q = [dictionary.doc2bow(nouns_Q)]\n",
    "    doc2bow_A = [dictionary.doc2bow(nouns_A)]\n",
    "    \n",
    "    ldalist_Q = np.zeros(30)\n",
    "    ldalist_A = np.zeros(30)\n",
    "    \n",
    "    if len(nouns_Q) == 0:\n",
    "        ldalist_Q = np.zeros(30)\n",
    "    else:\n",
    "        for pair in ldamodel.get_document_topics(doc2bow_Q)[0]:\n",
    "            ldalist_Q[pair[0]] = pair[1]\n",
    "        \n",
    "    if len(nouns_A) == 0:\n",
    "        ldalist_Q = np.zeros(30)\n",
    "    else:\n",
    "        for pair in ldamodel.get_document_topics(doc2bow_A)[0]:\n",
    "            ldalist_A[pair[0]] = pair[1]\n",
    "    \n",
    "    return(ldalist_Q, ldalist_A)"
   ]
  },
  {
   "cell_type": "markdown",
   "metadata": {},
   "source": [
    "# 보수, 진보, 전체에 벡터들 저장"
   ]
  },
  {
   "cell_type": "code",
   "execution_count": 10,
   "metadata": {
    "collapsed": true
   },
   "outputs": [],
   "source": [
    "#convec\n",
    "for key in con_Q_part.keys():\n",
    "    for i in range(len(con_Q_part[key])):\n",
    "        \n",
    "        morphs_Q = Tw.morphs(con_Q_part[key][i])\n",
    "        morphs_A = Tw.morphs(con_A_part[key][i])\n",
    "        \n",
    "        nouns_Q = Tw.nouns(con_Q_part[key][i])\n",
    "        nouns_A = Tw.nouns(con_A_part[key][i])\n",
    "        \n",
    "        \n",
    "        ldalist_Q, ldalist_A = return_ldalist(nouns_Q, nouns_A)\n",
    "        vec_Q, vec_A = return_word2veclist(morphs_Q, morphs_A)\n",
    "    \n",
    "        con_Q_part_vec.setdefault(key,[])\n",
    "        con_Q_part_vec[key].append(np.append(vec_Q,ldalist_Q).tolist())\n",
    "        #con_Q_part_vec[key].append(vec_Q.tolist())\n",
    "        \n",
    "        con_A_part_vec.setdefault(key,[])\n",
    "        con_A_part_vec[key].append(np.append(vec_A,ldalist_A).tolist())\n",
    "        #con_A_part_vec[key].append(vec_A.tolist())\n",
    "        \n",
    "#provec    \n",
    "for key in pro_Q_part.keys():\n",
    "    for i in range(len(pro_Q_part[key])):\n",
    "        \n",
    "        morphs_Q = Tw.morphs(pro_Q_part[key][i])\n",
    "        morphs_A = Tw.morphs(pro_A_part[key][i])\n",
    "        \n",
    "        nouns_Q = Tw.nouns(pro_Q_part[key][i])\n",
    "        nouns_A = Tw.nouns(pro_A_part[key][i])\n",
    "        \n",
    "        \n",
    "        ldalist_Q, ldalist_A = return_ldalist(nouns_Q, nouns_A)\n",
    "        vec_Q, vec_A = return_word2veclist(morphs_Q, morphs_A)\n",
    "        \n",
    "        pro_Q_part_vec.setdefault(key,[])\n",
    "        pro_Q_part_vec[key].append(np.append(vec_Q,ldalist_Q).tolist())\n",
    "        #pro_Q_part_vec[key].append(vec_Q.tolist())\n",
    "        \n",
    "        pro_A_part_vec.setdefault(key,[])\n",
    "        pro_A_part_vec[key].append(np.append(vec_A,ldalist_A).tolist())\n",
    "        #pro_A_part_vec[key].append(vec_A.tolist())\n",
    "        \n",
    "#allvec\n",
    "for key in all_Q_part.keys():\n",
    "    for i in range(len(all_Q_part[key])):\n",
    "        \n",
    "        morphs_Q = Tw.morphs(all_Q_part[key][i])\n",
    "        morphs_A = Tw.morphs(all_A_part[key][i])\n",
    "        \n",
    "        nouns_Q = Tw.nouns(all_Q_part[key][i])\n",
    "        nouns_A = Tw.nouns(all_A_part[key][i])\n",
    "        \n",
    "        ldalist_Q, ldalist_A = return_ldalist(nouns_Q, nouns_A)\n",
    "        vec_Q, vec_A = return_word2veclist(morphs_Q, morphs_A)\n",
    "        \n",
    "        all_Q_part_vec.setdefault(key,[])\n",
    "        all_Q_part_vec[key].append(np.append(vec_Q,ldalist_Q).tolist())\n",
    "        #all_Q_part_vec[key].append(vec_Q.tolist())\n",
    "        \n",
    "        all_A_part_vec.setdefault(key,[])\n",
    "        all_A_part_vec[key].append(np.append(vec_A,ldalist_A).tolist())\n",
    "        #all_A_part_vec[key].append(vec_A.tolist())"
   ]
  },
  {
   "cell_type": "code",
   "execution_count": 11,
   "metadata": {
    "collapsed": true
   },
   "outputs": [],
   "source": [
    "with open('con_Q_part_vec.json','w') as fp:\n",
    "    json.dump(con_Q_part_vec,fp)\n",
    "with open('con_A_part_vec.json','w') as fp:\n",
    "    json.dump(con_A_part_vec,fp)\n",
    "with open('pro_Q_part_vec.json','w') as fp:\n",
    "    json.dump(pro_Q_part_vec,fp)\n",
    "with open('pro_A_part_vec.json','w') as fp:\n",
    "    json.dump(pro_A_part_vec,fp)\n",
    "    \n",
    "with open('all_Q_part_vec.json','w') as fp:\n",
    "    json.dump(all_Q_part_vec,fp)\n",
    "with open('all_A_part_vec.json','w') as fp:\n",
    "    json.dump(all_A_part_vec,fp)"
   ]
  }
 ],
 "metadata": {
  "kernelspec": {
   "display_name": "Python 3",
   "language": "python",
   "name": "python3"
  },
  "language_info": {
   "codemirror_mode": {
    "name": "ipython",
    "version": 3
   },
   "file_extension": ".py",
   "mimetype": "text/x-python",
   "name": "python",
   "nbconvert_exporter": "python",
   "pygments_lexer": "ipython3",
   "version": "3.6.0"
  }
 },
 "nbformat": 4,
 "nbformat_minor": 2
}
