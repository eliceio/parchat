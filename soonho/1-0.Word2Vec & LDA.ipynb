{
 "cells": [
  {
   "cell_type": "markdown",
   "metadata": {},
   "source": [
    "# Import"
   ]
  },
  {
   "cell_type": "code",
   "execution_count": null,
   "metadata": {
    "collapsed": true
   },
   "outputs": [],
   "source": [
    "import numpy as np\n",
    "import pandas as pd\n",
    "import json\n",
    "from konlpy.tag import Kkma, Twitter\n",
    "import re\n",
    "import gensim"
   ]
  },
  {
   "cell_type": "code",
   "execution_count": 2,
   "metadata": {
    "collapsed": true
   },
   "outputs": [],
   "source": [
    "pokr = pd.read_json('./pokr.json')"
   ]
  },
  {
   "cell_type": "code",
   "execution_count": 3,
   "metadata": {},
   "outputs": [
    {
     "data": {
      "text/html": [
       "<div>\n",
       "<style>\n",
       "    .dataframe thead tr:only-child th {\n",
       "        text-align: right;\n",
       "    }\n",
       "\n",
       "    .dataframe thead th {\n",
       "        text-align: left;\n",
       "    }\n",
       "\n",
       "    .dataframe tbody tr th {\n",
       "        vertical-align: top;\n",
       "    }\n",
       "</style>\n",
       "<table border=\"1\" class=\"dataframe\">\n",
       "  <thead>\n",
       "    <tr style=\"text-align: right;\">\n",
       "      <th></th>\n",
       "      <th>content</th>\n",
       "      <th>date</th>\n",
       "      <th>id</th>\n",
       "      <th>meeting_id</th>\n",
       "      <th>meeting_title</th>\n",
       "      <th>person_id</th>\n",
       "      <th>sequence</th>\n",
       "      <th>speaker</th>\n",
       "      <th>url</th>\n",
       "    </tr>\n",
       "  </thead>\n",
       "  <tbody>\n",
       "    <tr>\n",
       "      <th>0</th>\n",
       "      <td>의석을 정돈해 주시기 바랍니다.  \\n성원이 되었으므로 제4차 본회의를 개의하겠습니...</td>\n",
       "      <td>2012-07-17</td>\n",
       "      <td>1077715</td>\n",
       "      <td>19309444267</td>\n",
       "      <td>본회의</td>\n",
       "      <td>19461111.0</td>\n",
       "      <td>0</td>\n",
       "      <td>의장 강창희</td>\n",
       "      <td>http://pokr.kr/meeting/19309444267/dialog</td>\n",
       "    </tr>\n",
       "  </tbody>\n",
       "</table>\n",
       "</div>"
      ],
      "text/plain": [
       "                                             content       date       id  \\\n",
       "0  의석을 정돈해 주시기 바랍니다.  \\n성원이 되었으므로 제4차 본회의를 개의하겠습니... 2012-07-17  1077715   \n",
       "\n",
       "    meeting_id meeting_title   person_id  sequence speaker  \\\n",
       "0  19309444267           본회의  19461111.0         0  의장 강창희   \n",
       "\n",
       "                                         url  \n",
       "0  http://pokr.kr/meeting/19309444267/dialog  "
      ]
     },
     "execution_count": 3,
     "metadata": {},
     "output_type": "execute_result"
    }
   ],
   "source": [
    "pokr[:1]"
   ]
  },
  {
   "cell_type": "code",
   "execution_count": 4,
   "metadata": {
    "collapsed": true
   },
   "outputs": [],
   "source": [
    "pokr = pokr[['content']] # 발언들만 사용"
   ]
  },
  {
   "cell_type": "code",
   "execution_count": 5,
   "metadata": {
    "collapsed": true
   },
   "outputs": [],
   "source": [
    "Tw = Twitter()"
   ]
  },
  {
   "cell_type": "markdown",
   "metadata": {},
   "source": [
    "# Word2Vec에는 전체 형태소, LDA에는 명사만 사용"
   ]
  },
  {
   "cell_type": "code",
   "execution_count": 6,
   "metadata": {},
   "outputs": [
    {
     "data": {
      "text/plain": [
       "['성원', '이', '되었', '으므로', '제', '342', '회', '회의', '를']"
      ]
     },
     "execution_count": 6,
     "metadata": {},
     "output_type": "execute_result"
    }
   ],
   "source": [
    "Tw.morphs('성원이 되었으므로 제 342회 회의를')"
   ]
  },
  {
   "cell_type": "code",
   "execution_count": 7,
   "metadata": {},
   "outputs": [
    {
     "data": {
      "text/plain": [
       "['성원', '제', '회', '회의']"
      ]
     },
     "execution_count": 7,
     "metadata": {},
     "output_type": "execute_result"
    }
   ],
   "source": [
    "Tw.nouns('성원이 되었으므로 제 342회 회의를')"
   ]
  },
  {
   "cell_type": "code",
   "execution_count": 52,
   "metadata": {
    "collapsed": true
   },
   "outputs": [],
   "source": [
    "word2vec_m = []\n",
    "lda_n = []\n",
    "for row in pokr.iterrows():\n",
    "    content = row[1]['content']\n",
    "    \n",
    "    real_content = (re.sub('[=……ㆍ◎,◯!―()\\n]', '', content))\n",
    "    \n",
    "    morphs = Tw.morphs(real_content)\n",
    "    nouns = Tw.nouns(real_content)\n",
    "    \n",
    "    word2vec_m.append(morphs)\n",
    "    lda_n.append(nouns)"
   ]
  },
  {
   "cell_type": "code",
   "execution_count": null,
   "metadata": {
    "collapsed": true
   },
   "outputs": [],
   "source": [
    "dictionary = corpora.Dictionary(lda_n)"
   ]
  },
  {
   "cell_type": "code",
   "execution_count": 62,
   "metadata": {
    "collapsed": true
   },
   "outputs": [],
   "source": [
    "corpus = [dictionary.doc2bow(comment) for comment in lda_n]"
   ]
  },
  {
   "cell_type": "code",
   "execution_count": 63,
   "metadata": {
    "collapsed": true
   },
   "outputs": [],
   "source": [
    "word2vecmodel = gensim.models.Word2Vec(all_comment,size=200,min_count=10, sg=1)\n",
    "ldamodel = gensim.models.ldamodel.LdaModel(corpus = corpus, num_topics = 30, id2word = dictionary, update_every=1, passes=5)"
   ]
  },
  {
   "cell_type": "markdown",
   "metadata": {},
   "source": [
    "# 결과 확인"
   ]
  },
  {
   "cell_type": "code",
   "execution_count": 9,
   "metadata": {},
   "outputs": [
    {
     "data": {
      "text/plain": [
       "[('여당', 0.845704972743988),\n",
       " ('여야', 0.5596292018890381),\n",
       " ('조원진', 0.5339096188545227),\n",
       " ('자당', 0.5309696197509766),\n",
       " ('당인', 0.5138304829597473),\n",
       " ('환노', 0.513545036315918),\n",
       " ('황우여', 0.5115187764167786),\n",
       " ('정개', 0.5002454519271851),\n",
       " ('윤상현', 0.49903807044029236),\n",
       " ('김기현', 0.49822482466697693)]"
      ]
     },
     "execution_count": 9,
     "metadata": {},
     "output_type": "execute_result"
    }
   ],
   "source": [
    "word2vecmodel.most_similar(positive=['새누리당', '야당'],negative=['민주당'])"
   ]
  },
  {
   "cell_type": "code",
   "execution_count": 10,
   "metadata": {},
   "outputs": [
    {
     "data": {
      "text/plain": [
       "[('제도', 0.055089469180403257),\n",
       " ('재정', 0.034219618045418614),\n",
       " ('보험', 0.029871074229278288),\n",
       " ('공무원', 0.02635959738100898),\n",
       " ('복지', 0.025001340775675784),\n",
       " ('사회', 0.024382146782972854),\n",
       " ('개선', 0.021972295858315494),\n",
       " ('여성', 0.020580552381803108),\n",
       " ('부담', 0.016235734811720894),\n",
       " ('연금', 0.013923276650965573)]"
      ]
     },
     "execution_count": 10,
     "metadata": {},
     "output_type": "execute_result"
    }
   ],
   "source": [
    "ldamodel.show_topic(1)"
   ]
  },
  {
   "cell_type": "code",
   "execution_count": null,
   "metadata": {
    "collapsed": true
   },
   "outputs": [],
   "source": [
    "word2vecmodel.save('word2vecmodel')\n",
    "ldamodel.save('ldamodel')"
   ]
  }
 ],
 "metadata": {
  "kernelspec": {
   "display_name": "Python 3",
   "language": "python",
   "name": "python3"
  },
  "language_info": {
   "codemirror_mode": {
    "name": "ipython",
    "version": 3
   },
   "file_extension": ".py",
   "mimetype": "text/x-python",
   "name": "python",
   "nbconvert_exporter": "python",
   "pygments_lexer": "ipython3",
   "version": "3.6.0"
  }
 },
 "nbformat": 4,
 "nbformat_minor": 2
}
