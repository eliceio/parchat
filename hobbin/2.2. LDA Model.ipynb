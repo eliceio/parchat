{
 "cells": [
  {
   "cell_type": "markdown",
   "metadata": {},
   "source": [
    "# Load data"
   ]
  },
  {
   "cell_type": "code",
   "execution_count": 1,
   "metadata": {},
   "outputs": [
    {
     "data": {
      "text/plain": [
       "['의석', '정돈']"
      ]
     },
     "execution_count": 1,
     "metadata": {},
     "output_type": "execute_result"
    }
   ],
   "source": [
    "import json\n",
    "\n",
    "with open(\"sentence_nouns_dict.json\", \"r\") as f:\n",
    "    sentence_nouns_dict = json.load(f)\n",
    "sentences = list(sentence_nouns_dict.values())\n",
    "\n",
    "del sentence_nouns_dict\n",
    "sentences[0]"
   ]
  },
  {
   "cell_type": "markdown",
   "metadata": {},
   "source": [
    "# Constructing a document-term matrix"
   ]
  },
  {
   "cell_type": "code",
   "execution_count": 2,
   "metadata": {},
   "outputs": [
    {
     "data": {
      "text/plain": [
       "[(0, 1), (1, 1)]"
      ]
     },
     "execution_count": 2,
     "metadata": {},
     "output_type": "execute_result"
    }
   ],
   "source": [
    "from gensim import corpora\n",
    "\n",
    "dictionary = corpora.Dictionary(sentences)\n",
    "corpus = [dictionary.doc2bow(sentence) for sentence in sentences]\n",
    "\n",
    "del sentences\n",
    "corpus[0]"
   ]
  },
  {
   "cell_type": "markdown",
   "metadata": {},
   "source": [
    "# Construct a LDA model"
   ]
  },
  {
   "cell_type": "code",
   "execution_count": 3,
   "metadata": {
    "collapsed": true
   },
   "outputs": [],
   "source": [
    "from gensim.models import LdaMulticore\n",
    "\n",
    "LDA_model = LdaMulticore(corpus, workers=4, num_topics=15, id2word=dictionary, passes=1)\n",
    "LDA_model.save(\"LDA_15.model\")"
   ]
  },
  {
   "cell_type": "markdown",
   "metadata": {},
   "source": [
    "# Test"
   ]
  },
  {
   "cell_type": "code",
   "execution_count": 6,
   "metadata": {},
   "outputs": [],
   "source": [
    "from gensim.models import LdaMulticore\n",
    "import pickle\n",
    "\n",
    "LDA_model = LdaMulticore.load(\"LDA_15.model\")\n",
    "stop_words= pickle.load(open(\"LDA_stopwords.pickle\", \"rb\"))"
   ]
  },
  {
   "cell_type": "code",
   "execution_count": 11,
   "metadata": {},
   "outputs": [
    {
     "name": "stdout",
     "output_type": "stream",
     "text": [
      "['수', '국민', '정부', '정말']\n",
      "['제도', '사람', '겁', '조사', '근거', '해외', '도입', '당시', '법적', '신고', '개선', '판결', '의무']\n",
      "['수', '관리', '시행', '재정', '안전', '단체', '국가', '부담', '지방']\n",
      "['법', '법률', '개정', '법안', '일정', '심사', '의사', '의원', '건', '소위', '국회', '의결', '대표']\n",
      "['말', '그게', '거지', '자료', '질문', '날', '시', '그냥']\n",
      "['후보자', '대통령', '원장', '인사', '진행', '자료', '전문', '수정', '총리', '장관', '처', '적', '장님', '청장']\n",
      "['검토', '자료', '다시', '걸']\n",
      "['오늘', '두', '간사', '다시', '주시', '먼저']\n",
      "['관계', '차관', '연금', '수준', '국방부', '중국', '미국', '국제', '기업', '정보']\n",
      "['장관', '기관', '회', '관', '업무', '방송', '회사', '금융', '업체', '차', '사장', '직원', '검사', '공무원', '법무부']\n",
      "['대책', '경제', '북한', '책임', '정책', '학교', '정부', '규제', '사건', '사고', '피해', '상황']\n",
      "['수', '수사', '점']\n",
      "['사업', '예산', '계획', '교육', '연구', '문화', '집행', '기술', '운영', '부처', '기금', '협의', '편성']\n",
      "['년도', '정부', '돈', '거래', '공정', '예산', '공단', '교수', '작년', '억이', '금액', '불']\n",
      "['지역', '뭐', '기준', '기간', '그거', '개월', '요', '차이', '공사']\n"
     ]
    }
   ],
   "source": [
    "# Show all topics\n",
    "LDA_dim = 15\n",
    "for topic_num in range (LDA_dim):\n",
    "    print([pair[0] for pair in LDA_model.show_topic(topic_num, topn=20) if pair[0] not in stop_words])"
   ]
  },
  {
   "cell_type": "code",
   "execution_count": 16,
   "metadata": {
    "collapsed": true
   },
   "outputs": [],
   "source": [
    "import json\n",
    "\n",
    "with open(\"sentence_nouns_dict.json\", \"r\") as f:\n",
    "    sentence_nouns_dict = json.load(f)\n",
    "sentences = list(sentence_nouns_dict.keys())"
   ]
  },
  {
   "cell_type": "code",
   "execution_count": 17,
   "metadata": {},
   "outputs": [
    {
     "name": "stdout",
     "output_type": "stream",
     "text": [
      "topic #3\n",
      "['법', '법률', '개정', '법안', '일정']\n",
      "의사일정에 들어가기 전에 먼저 의사진행발언을 듣도록 하겠습니다\n",
      "국회법 제114조제2항의 규정에 따라 감표위원을 지명하겠습니다\n",
      "이의 없으십니까? (｢예｣ 하는 의원 있음) 가결되었음을 선포합니다\n",
      "그러면 법안심사소위원회 유재중 위원장께서 소위원회의 심사 결과를 보고하여 주시기 바랍니다\n",
      "법안 심사에 애써 주신 존경하는 유재중 법안심사소위원회 위원장님을 비롯한 김현숙 위원, 김희국 위원, 신경림 위원, 김성주 위원, 김용익\n",
      "위원, 남윤인순 위원, 양승조 위원님 등 소위원회 위원님들 수고 많으셨습니다\n"
     ]
    }
   ],
   "source": [
    "# Show sentences with a specific topic number\n",
    "target_topic = 3\n",
    "n_sentence = 5\n",
    "\n",
    "print(\"topic #%d\" % target_topic)\n",
    "print([pair[0] for pair in LDA_model.show_topic(target_topic) if pair[0] not in stop_words])\n",
    "counter = 0\n",
    "for corpus_idx, bow in enumerate(corpus):\n",
    "    topic = LDA_model.get_document_topics(bow)[0][0]\n",
    "    if topic == target_topic:\n",
    "        print(sentences[corpus_idx])\n",
    "        counter += 1\n",
    "    if counter == n_sentence:\n",
    "        break"
   ]
  },
  {
   "cell_type": "code",
   "execution_count": null,
   "metadata": {
    "collapsed": true
   },
   "outputs": [],
   "source": []
  }
 ],
 "metadata": {
  "kernelspec": {
   "display_name": "myvenv",
   "language": "python",
   "name": "myvenv"
  },
  "language_info": {
   "codemirror_mode": {
    "name": "ipython",
    "version": 3
   },
   "file_extension": ".py",
   "mimetype": "text/x-python",
   "name": "python",
   "nbconvert_exporter": "python",
   "pygments_lexer": "ipython3",
   "version": "3.6.1"
  }
 },
 "nbformat": 4,
 "nbformat_minor": 2
}
