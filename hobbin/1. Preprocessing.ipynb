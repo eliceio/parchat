{
 "cells": [
  {
   "cell_type": "markdown",
   "metadata": {},
   "source": [
    "# Load statements"
   ]
  },
  {
   "cell_type": "code",
   "execution_count": 30,
   "metadata": {},
   "outputs": [
    {
     "data": {
      "text/plain": [
       "{'content': '의석을 정돈해 주시기 바랍니다.  \\n성원이 되었으므로 제4차 본회의를 개의하겠습니다.  \\n오늘 보고사항은 회의록에 게재하도록 하겠습니다.  \\n(보고사항은 끝에 실음)',\n",
       " 'date': '2012-07-17',\n",
       " 'id': '1077715',\n",
       " 'meeting_id': '19309444267',\n",
       " 'meeting_title': '본회의',\n",
       " 'person_id': '19461111',\n",
       " 'sequence': 0,\n",
       " 'speaker': '의장 강창희',\n",
       " 'url': 'http://pokr.kr/meeting/19309444267/dialog'}"
      ]
     },
     "execution_count": 30,
     "metadata": {},
     "output_type": "execute_result"
    }
   ],
   "source": [
    "import json\n",
    "\n",
    "with open(\"pokr.json\", \"r\") as f:\n",
    "    stmts = json.load(f)\n",
    "stmts[0]"
   ]
  },
  {
   "cell_type": "markdown",
   "metadata": {},
   "source": [
    "# Filter sentences\n",
    "<font color='blue'>\n",
    "statement: #sentence <= 8 <br/>\n",
    "sentence: #word <= 100\n",
    "</font>"
   ]
  },
  {
   "cell_type": "code",
   "execution_count": null,
   "metadata": {},
   "outputs": [],
   "source": [
    "from konlpy.tag import Twitter\n",
    "from konlpy.tag import Kkma\n",
    "\n",
    "twitter = Twitter()\n",
    "filtered_sentence_nouns_dict = {}\n",
    "filtered_stmt_list = []\n",
    "for idx, stmt in enumerate(stmts, 1):\n",
    "    sentences = [sentence.strip() for sentence in stmt[\"content\"].split(\".\") if len(sentence.strip()) > 0 and len(sentence.split()) <= 100]\n",
    "    if len(sentences) <= 8:\n",
    "        stmt[\"sentence_word_matrix\"] = []\n",
    "        for sentence in sentences:\n",
    "            nouns = twitter.nouns(sentence)\n",
    "            if nouns:\n",
    "                filtered_sentence_nouns_dict[sentence] = nouns\n",
    "                stmt[\"sentence_word_matrix\"].append(nouns)\n",
    "        if stmt[\"sentence_word_matrix\"]:\n",
    "            stmt.pop(\"content\")\n",
    "            filtered_stmt_list.append(stmt)\n",
    "    \n",
    "    print(\"\\r%d/%d\" % (idx, len(stmts)), end=\"\")\n",
    "    \n",
    "filtered_stmt_list[0]"
   ]
  },
  {
   "cell_type": "markdown",
   "metadata": {},
   "source": [
    "# Save filtered statements"
   ]
  },
  {
   "cell_type": "code",
   "execution_count": null,
   "metadata": {
    "collapsed": true
   },
   "outputs": [],
   "source": [
    "with open(\"stmt_list.json\", \"w\") as f:\n",
    "    json.dump(filtered_stmt_list, f)"
   ]
  },
  {
   "cell_type": "code",
   "execution_count": null,
   "metadata": {
    "collapsed": true
   },
   "outputs": [],
   "source": [
    "with open(\"sentence_nouns_dict.json\", \"w\") as f:\n",
    "    json.dump(filtered_sentence_nouns_dict, f)"
   ]
  },
  {
   "cell_type": "code",
   "execution_count": null,
   "metadata": {
    "collapsed": true
   },
   "outputs": [],
   "source": []
  }
 ],
 "metadata": {
  "kernelspec": {
   "display_name": "myvenv",
   "language": "python",
   "name": "myvenv"
  },
  "language_info": {
   "codemirror_mode": {
    "name": "ipython",
    "version": 3
   },
   "file_extension": ".py",
   "mimetype": "text/x-python",
   "name": "python",
   "nbconvert_exporter": "python",
   "pygments_lexer": "ipython3",
   "version": "3.6.1"
  }
 },
 "nbformat": 4,
 "nbformat_minor": 2
}
