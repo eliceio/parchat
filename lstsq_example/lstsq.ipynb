{
 "cells": [
  {
   "cell_type": "markdown",
   "metadata": {},
   "source": [
    "# IMPORT"
   ]
  },
  {
   "cell_type": "code",
   "execution_count": 1,
   "metadata": {
    "collapsed": true
   },
   "outputs": [],
   "source": [
    "import numpy as np"
   ]
  },
  {
   "cell_type": "markdown",
   "metadata": {},
   "source": [
    "## RANDOM-GENERATE X, A, Y"
   ]
  },
  {
   "cell_type": "markdown",
   "metadata": {},
   "source": [
    "$K$ 는 dimension (우리의 경우에는 230), $N$은 데이터의 개수입니다. "
   ]
  },
  {
   "cell_type": "code",
   "execution_count": 2,
   "metadata": {
    "collapsed": true
   },
   "outputs": [],
   "source": [
    "K = 3\n",
    "N = 200"
   ]
  },
  {
   "cell_type": "markdown",
   "metadata": {},
   "source": [
    "원래는 몰라야 하지만 우리는 정답을 먼저 정해놓고 다시 풀면서 이 방법이 잘 동작하는지 확인해볼 것이므로 정답 matrix를 먼저 만듭니다."
   ]
  },
  {
   "cell_type": "code",
   "execution_count": 6,
   "metadata": {
    "collapsed": false
   },
   "outputs": [
    {
     "name": "stdout",
     "output_type": "stream",
     "text": [
      "[[ 0.34260116  0.99840251  1.59308988]\n",
      " [ 1.42116001  0.85546586  1.37889195]\n",
      " [ 0.23864266  0.07815135  1.11745401]]\n"
     ]
    }
   ],
   "source": [
    "A = np.random.random((K, K)) * 2\n",
    "print(A)"
   ]
  },
  {
   "cell_type": "markdown",
   "metadata": {},
   "source": [
    "X matrix (question) 도 만듭니다."
   ]
  },
  {
   "cell_type": "code",
   "execution_count": 10,
   "metadata": {
    "collapsed": false
   },
   "outputs": [
    {
     "name": "stdout",
     "output_type": "stream",
     "text": [
      "[[ 7.38493524  3.45453338  0.53734249]\n",
      " [ 7.52329812  0.40673706  7.50778058]\n",
      " [ 1.1642437   9.92801509  0.55176928]\n",
      " [ 4.19816993  6.29054674  0.52270094]\n",
      " [ 1.14201672  4.53215277  4.32912282]]\n"
     ]
    }
   ],
   "source": [
    "X = np.random.random((N, K)) * 10\n",
    "print(X[:5])"
   ]
  },
  {
   "cell_type": "markdown",
   "metadata": {},
   "source": [
    "$Y = X \\cdot A$ 모델에서 완벽한 피팅은 있을수 없습니다. epsilon은 에러입니다. 작은 값으로 놓습니다. 실제로는 매우 클지 모릅니다."
   ]
  },
  {
   "cell_type": "code",
   "execution_count": 13,
   "metadata": {
    "collapsed": false
   },
   "outputs": [
    {
     "name": "stdout",
     "output_type": "stream",
     "text": [
      "[[ 0.02123502  0.00356955  0.0771902 ]\n",
      " [ 0.09699317  0.07113802  0.07690649]\n",
      " [ 0.04266116  0.03904781  0.02998237]\n",
      " [ 0.00285995  0.07867435  0.09518803]\n",
      " [ 0.00191619  0.06626679  0.08590634]]\n"
     ]
    }
   ],
   "source": [
    "epsilon = np.random.random((N, K)) / 10\n",
    "print(epsilon[:5])"
   ]
  },
  {
   "cell_type": "code",
   "execution_count": 20,
   "metadata": {
    "collapsed": false
   },
   "outputs": [
    {
     "name": "stdout",
     "output_type": "stream",
     "text": [
      "[[  7.58899989  10.37393686  17.20593958]\n",
      " [  5.04419901   8.51711065  21.01264254]\n",
      " [ 14.68250606   9.73763117  16.19096407]\n",
      " [ 10.50577      9.69233554  16.04132858]\n",
      " [  7.86720009   5.42188795  12.99218622]]\n"
     ]
    }
   ],
   "source": [
    "Y = np.dot(X, A) + epsilon\n",
    "print(Y[:5])"
   ]
  },
  {
   "cell_type": "markdown",
   "metadata": {},
   "source": [
    "# LEAST SQUARES"
   ]
  },
  {
   "cell_type": "markdown",
   "metadata": {},
   "source": [
    "$Y = XA$ 모델에서 세로로 한 줄씩 구합니다. 구한 w를 세로로 쌓고 나중에 transpose 합니다."
   ]
  },
  {
   "cell_type": "code",
   "execution_count": 27,
   "metadata": {
    "collapsed": true
   },
   "outputs": [],
   "source": [
    "A_estimate = []\n",
    "\n",
    "for k in range(K):\n",
    "    y = Y[:, k]\n",
    "    w = np.linalg.lstsq(X, y)[0]\n",
    "    A_estimate.append(w)"
   ]
  },
  {
   "cell_type": "code",
   "execution_count": 29,
   "metadata": {
    "collapsed": false
   },
   "outputs": [],
   "source": [
    "A_estimate = np.array(A_estimate).T"
   ]
  },
  {
   "cell_type": "markdown",
   "metadata": {},
   "source": [
    "실제 값 (`A`) 와 구한 값 (`A_estimate`)의 차이를 알아봅니다. 매우 잘 된 것을 알 수 있습니다."
   ]
  },
  {
   "cell_type": "code",
   "execution_count": 30,
   "metadata": {
    "collapsed": false
   },
   "outputs": [
    {
     "name": "stdout",
     "output_type": "stream",
     "text": [
      "[[ 0.34260116  0.99840251  1.59308988]\n",
      " [ 1.42116001  0.85546586  1.37889195]\n",
      " [ 0.23864266  0.07815135  1.11745401]]\n"
     ]
    }
   ],
   "source": [
    "print(A)"
   ]
  },
  {
   "cell_type": "code",
   "execution_count": 31,
   "metadata": {
    "collapsed": false
   },
   "outputs": [
    {
     "name": "stdout",
     "output_type": "stream",
     "text": [
      "[[ 0.3462932   1.00112763  1.59614879]\n",
      " [ 1.4225504   0.85931355  1.38359195]\n",
      " [ 0.24211021  0.08016376  1.11930968]]\n"
     ]
    }
   ],
   "source": [
    "print(A_estimate)"
   ]
  }
 ],
 "metadata": {
  "kernelspec": {
   "display_name": "Python 3",
   "language": "python",
   "name": "python3"
  },
  "language_info": {
   "codemirror_mode": {
    "name": "ipython",
    "version": 3
   },
   "file_extension": ".py",
   "mimetype": "text/x-python",
   "name": "python",
   "nbconvert_exporter": "python",
   "pygments_lexer": "ipython3",
   "version": "3.6.0"
  }
 },
 "nbformat": 4,
 "nbformat_minor": 2
}
