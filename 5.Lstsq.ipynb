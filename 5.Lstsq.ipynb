{
 "cells": [
  {
   "cell_type": "markdown",
   "metadata": {},
   "source": [
    "# Least Square Method을 이용해서 Y = A * X 에서 A를 찾아낸다"
   ]
  },
  {
   "cell_type": "code",
   "execution_count": 2,
   "metadata": {
    "collapsed": true
   },
   "outputs": [],
   "source": [
    "import numpy as np\n",
    "import pandas as pd\n",
    "import json"
   ]
  },
  {
   "cell_type": "code",
   "execution_count": 3,
   "metadata": {
    "collapsed": true
   },
   "outputs": [],
   "source": [
    "with open('con_Q_part_vec.json','r') as fp:\n",
    "    con_Q_part_vec = json.load(fp)\n",
    "with open('con_A_part_vec.json','r') as fp:\n",
    "    con_A_part_vec = json.load(fp)\n",
    "with open('pro_Q_part_vec.json','r') as fp:\n",
    "    pro_Q_part_vec = json.load(fp)\n",
    "with open('pro_A_part_vec.json','r') as fp:\n",
    "    pro_A_part_vec = json.load(fp)\n",
    "\n",
    "with open('all_Q_part_vec.json','r') as fp:\n",
    "    all_Q_part_vec = json.load(fp)\n",
    "with open('all_A_part_vec.json','r') as fp:\n",
    "    all_A_part_vec = json.load(fp)"
   ]
  },
  {
   "cell_type": "code",
   "execution_count": 7,
   "metadata": {
    "collapsed": true
   },
   "outputs": [],
   "source": [
    "A_estimate_con = {}\n",
    "A_estimate_pro = {}\n",
    "A_estimate_all = {}"
   ]
  },
  {
   "cell_type": "code",
   "execution_count": 8,
   "metadata": {
    "collapsed": true
   },
   "outputs": [],
   "source": [
    "for key in con_A_part_vec.keys():\n",
    "    con_A_part_vec[key] = np.array(con_A_part_vec[key])\n",
    "    con_Q_part_vec[key] = np.array(con_Q_part_vec[key])\n",
    "    \n",
    "    for k in range(230):\n",
    "        a = con_A_part_vec[key][:,k]\n",
    "        w = (np.linalg.lstsq(con_Q_part_vec[key], a)[0])\n",
    "    \n",
    "        A_estimate_con.setdefault(key,[])\n",
    "        A_estimate_con[key].append(w)\n",
    "\n",
    "    A_estimate_con[key] = np.array(A_estimate_con[key]).T\n",
    "    \n",
    "    \n",
    "for key in pro_A_part_vec.keys():\n",
    "    pro_A_part_vec[key] = np.array(pro_A_part_vec[key])\n",
    "    pro_Q_part_vec[key] = np.array(pro_Q_part_vec[key])\n",
    "    \n",
    "    for k in range(230):\n",
    "        a = pro_A_part_vec[key][:,k]\n",
    "        w = (np.linalg.lstsq(pro_Q_part_vec[key], a)[0])\n",
    "    \n",
    "        A_estimate_pro.setdefault(key,[])\n",
    "        A_estimate_pro[key].append(w)\n",
    "\n",
    "    A_estimate_pro[key] = np.array(A_estimate_pro[key]).T\n",
    "\n",
    "    \n",
    "    \n",
    "for key in all_A_part_vec.keys():\n",
    "    all_A_part_vec[key] = np.array(all_A_part_vec[key])\n",
    "    all_Q_part_vec[key] = np.array(all_Q_part_vec[key])\n",
    "    \n",
    "    for k in range(230):\n",
    "        a = all_A_part_vec[key][:,k]\n",
    "        w = (np.linalg.lstsq(all_Q_part_vec[key], a)[0])\n",
    "    \n",
    "        A_estimate_all.setdefault(key,[])\n",
    "        A_estimate_all[key].append(w)\n",
    "\n",
    "    A_estimate_all[key] = np.array(A_estimate_all[key]).T"
   ]
  },
  {
   "cell_type": "code",
   "execution_count": 9,
   "metadata": {
    "collapsed": true
   },
   "outputs": [],
   "source": [
    "for key in A_estimate_con.keys():\n",
    "    A_estimate_con[key] = A_estimate_con[key].tolist()\n",
    "    A_estimate_pro[key] = A_estimate_pro[key].tolist()\n",
    "    A_estimate_all[key] = A_estimate_all[key].tolist()"
   ]
  },
  {
   "cell_type": "code",
   "execution_count": 10,
   "metadata": {
    "collapsed": true
   },
   "outputs": [],
   "source": [
    "with open('./A_estimate_con.json','w') as fp:\n",
    "    json.dump(A_estimate_con,fp)\n",
    "with open('./A_estimate_pro.json','w') as fp:\n",
    "    json.dump(A_estimate_pro,fp)\n",
    "with open('./A_estimate_all.json','w') as fp:\n",
    "    json.dump(A_estimate_all,fp)"
   ]
  }
 ],
 "metadata": {
  "kernelspec": {
   "display_name": "Python 3",
   "language": "python",
   "name": "python3"
  },
  "language_info": {
   "codemirror_mode": {
    "name": "ipython",
    "version": 3
   },
   "file_extension": ".py",
   "mimetype": "text/x-python",
   "name": "python",
   "nbconvert_exporter": "python",
   "pygments_lexer": "ipython3",
   "version": "3.6.0"
  }
 },
 "nbformat": 4,
 "nbformat_minor": 2
}
