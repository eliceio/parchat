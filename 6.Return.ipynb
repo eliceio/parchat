{
 "cells": [
  {
   "cell_type": "code",
   "execution_count": 1,
   "metadata": {
    "collapsed": true
   },
   "outputs": [],
   "source": [
    "import numpy as np\n",
    "import pandas as pd\n",
    "import json\n",
    "import gensim\n",
    "from konlpy.tag import Kkma, Twitter\n",
    "from gensim import corpora"
   ]
  },
  {
   "cell_type": "code",
   "execution_count": 12,
   "metadata": {
    "collapsed": true
   },
   "outputs": [],
   "source": [
    "with open('con_A_part.json', 'r') as fp:\n",
    "    con_A_part = json.load(fp)\n",
    "with open('pro_A_part.json', 'r') as fp:\n",
    "    pro_A_part = json.load(fp)\n",
    "#with open('all_A_part.json', 'r') as fp:\n",
    "    #all_A_part = json.load(fp)"
   ]
  },
  {
   "cell_type": "code",
   "execution_count": 2,
   "metadata": {
    "collapsed": true
   },
   "outputs": [],
   "source": [
    "with open('con_Q_part.json', 'r') as fp:\n",
    "    con_Q_part = json.load(fp)\n",
    "with open('pro_Q_part.json', 'r') as fp:\n",
    "    pro_Q_part = json.load(fp)\n",
    "#with open('all_Q_part.json', 'r') as fp:\n",
    "    #all_Q_part = json.load(fp)"
   ]
  },
  {
   "cell_type": "code",
   "execution_count": 11,
   "metadata": {
    "collapsed": true
   },
   "outputs": [],
   "source": [
    "with open('con_A_part_vec.json', 'r') as fp:\n",
    "    con_A_part_vec = json.load(fp)\n",
    "with open('pro_A_part_vec.json', 'r') as fp:\n",
    "    pro_A_part_vec = json.load(fp)\n",
    "#with open('all_A_part_vec.json', 'r') as fp:\n",
    "    #all_A_part_vec = json.load(fp)"
   ]
  },
  {
   "cell_type": "code",
   "execution_count": 4,
   "metadata": {
    "collapsed": true
   },
   "outputs": [],
   "source": [
    "with open('A_estimate_con.json', 'r') as fp:\n",
    "    A_estimate_con = json.load(fp)\n",
    "with open('A_estimate_pro.json', 'r') as fp:\n",
    "    A_estimate_pro = json.load(fp)\n",
    "#with open('A_estimate_all.json', 'r') as fp:\n",
    "#    A_estimate_all = json.load(fp)"
   ]
  },
  {
   "cell_type": "code",
   "execution_count": 5,
   "metadata": {
    "collapsed": true
   },
   "outputs": [],
   "source": [
    "word2vecmodel = gensim.models.Word2Vec.load('./word2vecmodel')\n",
    "ldamodel =  gensim.models.ldamodel.LdaModel.load('./ldamodel')\n",
    "dictionary = corpora.Dictionary.load('ldamodel.id2word')\n",
    "Tw = Twitter()"
   ]
  },
  {
   "cell_type": "markdown",
   "metadata": {},
   "source": [
    "# Part를 리턴 해주는 함수"
   ]
  },
  {
   "cell_type": "code",
   "execution_count": 6,
   "metadata": {
    "collapsed": true
   },
   "outputs": [],
   "source": [
    "def return_part(q):\n",
    "    nouns = Tw.nouns(q)\n",
    "    \n",
    "    topics = ldamodel.get_document_topics(dictionary.doc2bow(nouns))\n",
    "\n",
    "    max_prob = round(topics[0][1], 5)\n",
    "    temp_prob = round(topics[0][1], 5)\n",
    "    max_part = topics[0][0]\n",
    "    \n",
    "    check = 0\n",
    "\n",
    "    for i in range(1,len(topics)):\n",
    "        if round(topics[i][1], 5) != temp_prob:\n",
    "            check = 1\n",
    "            break\n",
    "    \n",
    "    if check == 0:\n",
    "        return(str(30))\n",
    "\n",
    "    if check == 1:\n",
    "        for part,prob in topics:\n",
    "            if round(prob,5) > max_prob:\n",
    "                max_prob = round(prob,5)\n",
    "                max_part = part\n",
    "    \n",
    "        return str(max_part)"
   ]
  },
  {
   "cell_type": "markdown",
   "metadata": {},
   "source": [
    "# 질문을 벡터화해서 리턴 해주는 함수"
   ]
  },
  {
   "cell_type": "code",
   "execution_count": 7,
   "metadata": {
    "collapsed": true
   },
   "outputs": [],
   "source": [
    "def return_vector(q):\n",
    "    \n",
    "    morphs = Tw.morphs(q)     \n",
    "    nouns = Tw.nouns(q)\n",
    "    doc2bow = [dictionary.doc2bow(nouns)]\n",
    "    \n",
    "    ldalist = np.zeros(30)\n",
    "    \n",
    "    for pair in ldamodel.get_document_topics(doc2bow)[0]:\n",
    "        ldalist[pair[0]] = pair[1]\n",
    "    \n",
    "    k = []\n",
    "    \n",
    "    for word in morphs:\n",
    "        try:\n",
    "            k.append(word2vecmodel.wv[word])            \n",
    "        except:\n",
    "            k.append(np.zeros(200))\n",
    "    \n",
    "    k = np.array(k)\n",
    "    \n",
    "    vec = np.zeros(200)\n",
    "\n",
    "    for i in range(len(vec)):\n",
    "        vec[i] = (np.mean(k[:,i]))\n",
    "    \n",
    "    return np.append(vec,ldalist)"
   ]
  },
  {
   "cell_type": "markdown",
   "metadata": {},
   "source": [
    "# 예상 답을 리턴 해주는 함수 각각 (진보, 보수, 전체)"
   ]
  },
  {
   "cell_type": "code",
   "execution_count": 22,
   "metadata": {
    "collapsed": true
   },
   "outputs": [],
   "source": [
    "def return_pro(q):\n",
    "    if q in hello :\n",
    "        return hello[q]\n",
    "    \n",
    "    part = return_part(q)\n",
    "    \n",
    "    vec = return_vector(q)\n",
    "    \n",
    "    ex_A = np.dot(vec, A_estimate_pro[part])\n",
    "    \n",
    "    min_dis = 1000\n",
    "    index = 0\n",
    "    for j in range(len(pro_A_part_vec[part])):\n",
    "        dis = np.linalg.norm((pro_A_part_vec[part][j]-ex_A))\n",
    "        if dis < min_dis:\n",
    "            min_dis = dis\n",
    "            index = j\n",
    "\n",
    "    return pro_A_part[part][index]\n",
    "\n",
    "\n",
    "def return_con(q):\n",
    "    if q in hello :\n",
    "        return hello[q]\n",
    "    \n",
    "    part = return_part(q)\n",
    "    vec = return_vector(q)\n",
    "        \n",
    "    ex_A = np.dot(vec, A_estimate_con[part])\n",
    "    \n",
    "    min_dis = 1000\n",
    "    index = 0\n",
    "    for j in range(len(con_A_part_vec[part])):\n",
    "        dis = np.linalg.norm((con_A_part_vec[part][j]-ex_A))\n",
    "        if dis < min_dis:\n",
    "            min_dis = dis\n",
    "            index = j\n",
    "    \n",
    "    return con_A_part[part][index]\n",
    "\n",
    "def return_all(q):\n",
    "    if q in hello :\n",
    "        return hello[q]\n",
    "    \n",
    "    part = return_part(q)\n",
    "    vec = return_vector(q)\n",
    "        \n",
    "    ex_A = np.dot(vec, A_estimate_all[part])\n",
    "    \n",
    "    min_dis = 1000\n",
    "    index = 0\n",
    "    for j in range(len(all_A_part_vec[part])):\n",
    "        dis = np.linalg.norm((all_A_part_vec[part][j]-ex_A))\n",
    "        if dis < min_dis:\n",
    "            min_dis = dis\n",
    "            index = j\n",
    "    return all_A_part[part][index]"
   ]
  },
  {
   "cell_type": "code",
   "execution_count": 9,
   "metadata": {
    "collapsed": true
   },
   "outputs": [],
   "source": [
    "hello = {'안녕':'반말하지 마십시오.',\n",
    "         '안녕?':'반말하지 마십시오',\n",
    "         '안녕하세요': '안녕하세요.',\n",
    "         '안녕 하세요':'안녕하세요',\n",
    "         '안녕하세요 위원님': '안녕하세요 위원님.',\n",
    "         '안녕하세요 의원님':'안녕하세요 의원님.',\n",
    "        '안녕하세요위원님':'안녕하세요위원님.',\n",
    "         '안녕하세요의원님': '안녕하세요의원님',\n",
    "         '안녕히계세요': '아직 회의 안 끝났습니다.',\n",
    "        '안녕히 계세요': '아직 회의 안 끝났습니다.'}"
   ]
  },
  {
   "cell_type": "code",
   "execution_count": 23,
   "metadata": {
    "scrolled": false
   },
   "outputs": [
    {
     "name": "stdout",
     "output_type": "stream",
     "text": [
      "Q ->  아니 그런데 사업은 그렇게 해도 노무현 정부 때 했어요.\n",
      "Original A ->  노무현 정부 때 다 계획이 수립됐기 때문에\n",
      "ex A -> 노무현 정부 때 다 계획이 수립됐기 때문에\n",
      "------------------------------------------------------------------------------------\n",
      "Q ->  아니 한마디만 하시면 되지 않나요?\n",
      "Original A ->  그것 하고 나서 그다음에 얘기를 하시면\n",
      "ex A -> 그것 하고 나서 그다음에 얘기를 하시면\n",
      "------------------------------------------------------------------------------------\n",
      "Q ->  아닙니다.  모독한 적이 없습니다 저는요.\n",
      "Original A ->  위원장님.\n",
      "ex A -> 잠깐만요.  그것은 말이지요 한기호 간사님께서 ‘여당 위원들’이라고 했습니다.\n",
      "------------------------------------------------------------------------------------\n",
      "Q ->  하늘이 무너져도 도덕은 하늘이 무너져도 정의는 세워야 돼요\n",
      "Original A ->  이석현 의원\n",
      "ex A -> 이석현 의원\n",
      "------------------------------------------------------------------------------------\n",
      "Q ->  만약 이명박 대통령과 박근혜 새누리당이\n",
      "Original A ->  자 더 이상 인권위원장후보자에 대한 질의가 없기 때문에 질의를 모두 종결하겠습니다.\n",
      "ex A -> 자 더 이상 인권위원장후보자에 대한 질의가 없기 때문에 질의를 모두 종결하겠습니다.\n",
      "------------------------------------------------------------------------------------\n",
      "Q ->  뭐 약속 있으세요?\n",
      "Original A ->  협조해 주세요.\n",
      "ex A -> 협조해 주세요.\n",
      "------------------------------------------------------------------------------------\n",
      "Q ->  국적을 넣지 않아야 될 이유가 있어요?\n",
      "Original A ->  그것은 좀 그러네.\n",
      "ex A -> 그것은 좀 그러네.\n",
      "------------------------------------------------------------------------------------\n",
      "Q ->  왜 그런 나라는 선출하는 것이 번잡스럽고 시간도 걸리고 복잡한지 몰라서 선출하겠습니까 그런 나라가?\n",
      "Original A ->  이 위원들을 국회에서 추천하는 것을 아예 없애 버리면 더 방송공정성이 되는 것 아닌가요 여야 다?\n",
      "ex A -> 이 위원들을 국회에서 추천하는 것을 아예 없애 버리면 더 방송공정성이 되는 것 아닌가요 여야 다?\n",
      "------------------------------------------------------------------------------------\n",
      "Q ->  MBC 지배구조도\n",
      "Original A ->  기본적으로 그것은 저는 찬성합니다.  국회 추천의 몫을 없애는 게 나는 맞는\n",
      "ex A -> 기본적으로 그것은 저는 찬성합니다.  국회 추천의 몫을 없애는 게 나는 맞는\n",
      "------------------------------------------------------------------------------------\n",
      "Q ->  그러면 그냥 국회는 싹 빠지고 대통령이 알아서 다 하게 하면 공정하게 되게끔 하니까\n",
      "Original A ->  아니지 그건 아니지요.  그렇기 때문에 최소한의 장치를 두고 있는 거고\n",
      "ex A -> 아니지 그건 아니지요.  그렇기 때문에 최소한의 장치를 두고 있는 거고\n",
      "------------------------------------------------------------------------------------\n",
      "Q ->  약속한 것 대통령 공약사항부터를 지금 안 지키고 있는 거예요.\n",
      "Original A ->  아니 그게 아니라\n",
      "ex A -> 아니 그게 아니라\n",
      "------------------------------------------------------------------------------------\n",
      "Q ->  그렇지 만일 그런 뜻에서 한 거라면.\n",
      "Original A ->  아까 콤마는 분리가 되는 거고 가운뎃점은 병렬이다 이렇게 말씀하셨지요?\n",
      "ex A -> 아까 콤마는 분리가 되는 거고 가운뎃점은 병렬이다 이렇게 말씀하셨지요?\n",
      "------------------------------------------------------------------------------------\n",
      "Q ->  ‘단속’보다는 ‘지도’라는 말이 낫지.\n",
      "Original A ->  금연단속지도원.\n",
      "ex A -> 금연단속지도원.\n",
      "------------------------------------------------------------------------------------\n",
      "Q ->  위원장님 저도 한마디 합시다.\n",
      "Original A ->  뭘 왔다 갔다 해.  적당히 합시다.\n",
      "ex A -> 뭘 왔다 갔다 해.  적당히 합시다.\n",
      "------------------------------------------------------------------------------------\n",
      "Q ->  이것은 반대 저는 반대입니다.\n",
      "Original A ->  이것은 좀 더 나중에 추후 논의를 하는 것으로 하시지요.\n",
      "ex A -> 그렇게 챙기실 수 있다고 주위 사람들이 믿지 않고 걱정하는 사람들이 더 많고 특히 여당 의원 중에도 ‘스스로 용퇴를 결정해야 되는 것아니냐?’ 이렇게 말씀하시는 분이 있는 것이 언론에 보도되고 있는 것 보셨습니까?\n",
      "------------------------------------------------------------------------------------\n",
      "Q ->  야당보다 훨씬\n",
      "Original A ->  아니 아니\n",
      "ex A -> 아니 아니\n",
      "------------------------------------------------------------------------------------\n",
      "Q ->  아니야 도서관 증축이라고 아니야.\n",
      "Original A ->  그래요.  이렇게 해 놓으면 또 이상해.  어린이연구전문도서관 해 놓고 어린이 연구공간은 얼마 안 되고 그것도 이상해 이게.\n",
      "ex A -> 그래요.  이렇게 해 놓으면 또 이상해.  어린이연구전문도서관 해 놓고 어린이 연구공간은 얼마 안 되고 그것도 이상해 이게.\n",
      "------------------------------------------------------------------------------------\n",
      "Q ->  전지 방전되지요.\n",
      "Original A ->  아니 그래도 불량한 것만 바꾸면 되잖아?\n",
      "ex A -> 아니 그래도 불량한 것만 바꾸면 되잖아?\n",
      "------------------------------------------------------------------------------------\n",
      "Q ->  계류해서 폐지는 하시지 말고\n",
      "Original A ->  이건 그대로 가는 게 좋아.  전순옥 위원님하고 논의를 해 보라고.\n",
      "ex A -> 이건 그대로 가는 게 좋아.  전순옥 위원님하고 논의를 해 보라고.\n",
      "------------------------------------------------------------------------------------\n",
      "Q ->  자격증제도가 생겼어요?\n",
      "Original A ->  해외환자 유치업자는 의료법상 있는 공식명칭이고요 코디네이터는 자격증은 있지만 의료법에 등록된 그건 아니기 때문에 합법이다 불법이다는 지금해외환자 유치업자에 대한\n",
      "ex A -> 해외환자 유치업자는 의료법상 있는 공식명칭이고요 코디네이터는 자격증은 있지만 의료법에 등록된 그건 아니기 때문에 합법이다 불법이다는 지금해외환자 유치업자에 대한\n",
      "------------------------------------------------------------------------------------\n",
      "Q ->  추궁하는데 왜 그래요?\n",
      "Original A ->  추궁하는 게 아니잖아.\n",
      "ex A -> 추궁하는 게 아니잖아.\n",
      "------------------------------------------------------------------------------------\n",
      "Q ->  아 육군만.\n",
      "Original A ->  이거는 줘도 될 것 같습니다.\n",
      "ex A -> 이거는 줘도 될 것 같습니다.\n",
      "------------------------------------------------------------------------------------\n",
      "Q ->  이완영 위원님 위원들의 정치적 견해에 대해서 함부로 사과 요청하지 마세요.\n",
      "Original A ->  아니에요 아무리 정치적 견해라도 이것은 여당과 야당 간에 짚고 넘어가야 할 얘기입니다.\n",
      "ex A -> 아니에요 아무리 정치적 견해라도 이것은 여당과 야당 간에 짚고 넘어가야 할 얘기입니다.\n",
      "------------------------------------------------------------------------------------\n",
      "Q ->  개인적인 것은 당연히 이렇게 지지도 가능하고 저렇게 지지도 가능하지요.\n",
      "Original A ->  개인적이 아니라\n",
      "ex A -> 개인적이 아니라\n",
      "------------------------------------------------------------------------------------\n",
      "Q ->  임명할 때 새누리당 관계자들 다 임명해 놓고 지금 정치적으로 하는 것 다 보장해야 된다고 그러면 그 기구를 그냥 새누리당 기구로 쓰시지요.  그렇게 말할 게 아니라 정확하게 이게 어떻게 헌법에 위배가 되고\n",
      "Original A ->  말하자면 임명도 시․군․구 자문위원회에서 회의에 의해서 거기에서 선출을 하지 누가 임의로 임명을 하는 게 아니에요.\n",
      "ex A -> 말하자면 임명도 시․군․구 자문위원회에서 회의에 의해서 거기에서 선출을 하지 누가 임의로 임명을 하는 게 아니에요.\n",
      "------------------------------------------------------------------------------------\n",
      "Q ->  얼마나 후퇴가 됐어?\n",
      "Original A ->  기간도 1년 더 줬고\n",
      "ex A -> 기간도 1년 더 줬고\n",
      "------------------------------------------------------------------------------------\n",
      "Q ->  들어가세요.  장내 소란\n",
      "Original A ->  최연혜 사장 들어가세요 들어가시라고\n",
      "ex A -> 최연혜 사장 들어가세요 들어가시라고\n",
      "------------------------------------------------------------------------------------\n",
      "Q ->  무슨 민주당이 노조를 팝니까?\n",
      "Original A ->  자료를 들어 보이며 아니 전병헌 대표가 4개 항에 대해서 거의 합의 수준 이런 게 왔는데\n",
      "ex A -> 자료를 들어 보이며 아니 전병헌 대표가 4개 항에 대해서 거의 합의 수준 이런 게 왔는데\n",
      "------------------------------------------------------------------------------------\n",
      "Q ->  대통령이 법입니까?\n",
      "Original A ->  아니 대통령 말을 안 믿을 거면 누구 말을 믿어야 돼?\n",
      "ex A -> 아니 대통령 말을 안 믿을 거면 누구 말을 믿어야 돼?\n",
      "------------------------------------------------------------------------------------\n",
      "Q ->  국민들 뜻은 원칙 있게 대응하라는 거예요 정부가\n",
      "Original A ->  국민을 함부로 팔지 말아요.  국민의 뜻이 뭔지 알고 그러세요?\n",
      "ex A -> 국민을 함부로 팔지 말아요.  국민의 뜻이 뭔지 알고 그러세요?\n",
      "------------------------------------------------------------------------------------\n",
      "Q ->  뭐가 날치기야?\n",
      "Original A ->  날치기 상정이지요\n",
      "ex A -> 날치기 상정이지요\n",
      "------------------------------------------------------------------------------------\n"
     ]
    }
   ],
   "source": [
    "for i in range(len(con_Q_part['0'])):\n",
    "    print('Q -> ',con_Q_part['0'][i])\n",
    "    print('Original A -> ', con_A_part['0'][i])\n",
    "    \n",
    "    print('ex A ->',return_con(con_Q_part['0'][i]))\n",
    "    print('------------------------------------------------------------------------------------')\n",
    "    if i ==30 :\n",
    "        break\n",
    "    \n"
   ]
  }
 ],
 "metadata": {
  "kernelspec": {
   "display_name": "Python 3",
   "language": "python",
   "name": "python3"
  },
  "language_info": {
   "codemirror_mode": {
    "name": "ipython",
    "version": 3
   },
   "file_extension": ".py",
   "mimetype": "text/x-python",
   "name": "python",
   "nbconvert_exporter": "python",
   "pygments_lexer": "ipython3",
   "version": "3.6.0"
  }
 },
 "nbformat": 4,
 "nbformat_minor": 2
}
