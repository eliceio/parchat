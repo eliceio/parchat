{
 "cells": [
  {
   "cell_type": "markdown",
   "metadata": {},
   "source": [
    "# IMPORT"
   ]
  },
  {
   "cell_type": "code",
   "execution_count": null,
   "metadata": {
    "collapsed": true
   },
   "outputs": [],
   "source": [
    "import json\n",
    "import numpy as np\n",
    "import gensim"
   ]
  },
  {
   "cell_type": "markdown",
   "metadata": {},
   "source": [
    "# Load Data"
   ]
  },
  {
   "cell_type": "code",
   "execution_count": null,
   "metadata": {
    "collapsed": true
   },
   "outputs": [],
   "source": [
    "with open(\"QA.json\", \"r\") as f:\n",
    "    QA_pairs = json.load(f)\n",
    "\n",
    "Q = np.array([pair[0] for pair in QA_pairs])\n",
    "A = np.array([pair[1] for pair in QA_pairs])"
   ]
  },
  {
   "cell_type": "markdown",
   "metadata": {},
   "source": [
    "# BFGS"
   ]
  },
  {
   "cell_type": "code",
   "execution_count": 12,
   "metadata": {
    "collapsed": true
   },
   "outputs": [],
   "source": [
    "def fun(W):\n",
    "    W = W.reshape((Q.shape[1], A.shape[1]))\n",
    "    E = np.dot(Q, W) - A\n",
    "    SS = np.sum(np.square(E))\n",
    "    return SS"
   ]
  },
  {
   "cell_type": "code",
   "execution_count": null,
   "metadata": {
    "collapsed": true
   },
   "outputs": [],
   "source": [
    "from scipy.optimize import minimize\n",
    "\n",
    "W = np.zeros((Q.shape[1], A.shape[1]))\n",
    "res = minimize(fun, W, method='BFGS')"
   ]
  },
  {
   "cell_type": "code",
   "execution_count": null,
   "metadata": {
    "collapsed": true
   },
   "outputs": [],
   "source": [
    "import pickle\n",
    "\n",
    "with open(\"BFGS.result\", \"wb\") as f:\n",
    "    pickle.dump(res, f)"
   ]
  },
  {
   "cell_type": "markdown",
   "metadata": {},
   "source": [
    "# Save (sentence, w2v_vector) pair"
   ]
  },
  {
   "cell_type": "code",
   "execution_count": 1,
   "metadata": {
    "collapsed": true
   },
   "outputs": [],
   "source": [
    "W2V_dim = 50\n",
    "with open(\"sentence_nouns_dict.json\", \"r\") as f:\n",
    "    sentence_nouns_dict = json.load(f)\n",
    "W2V_model = gensim.models.Word2Vec.load(\"W2V_%d.model\" % W2V_dim)"
   ]
  },
  {
   "cell_type": "code",
   "execution_count": null,
   "metadata": {
    "collapsed": true
   },
   "outputs": [],
   "source": [
    "sentence_vector_dict = {}\n",
    "for ix, (sentence, words) in enumerate(sentence_nouns_dict.items()):\n",
    "    w2v_vector = np.mean([W2V_model.wv[word] if word in W2V_model.wv else np.zeros(W2V_dim) for word in words], axis=0)\n",
    "    sentence_vector_dict[sentence] = w2v_vector\n",
    "    print(\"\\r%d/%d\" % (ix, len(sentence_nouns_dict)), end=\"\")\n",
    "\n",
    "with open(\"sentence_vector_dict.json\", \"w\") as f:\n",
    "    json"
   ]
  },
  {
   "cell_type": "markdown",
   "metadata": {},
   "source": [
    "# Test"
   ]
  },
  {
   "cell_type": "markdown",
   "metadata": {},
   "source": [
    "## 1. Test input"
   ]
  },
  {
   "cell_type": "markdown",
   "metadata": {},
   "source": [
    "## 2. Convert response vector to text"
   ]
  }
 ],
 "metadata": {
  "kernelspec": {
   "display_name": "myvenv",
   "language": "python",
   "name": "myvenv"
  },
  "language_info": {
   "codemirror_mode": {
    "name": "ipython",
    "version": 3
   },
   "file_extension": ".py",
   "mimetype": "text/x-python",
   "name": "python",
   "nbconvert_exporter": "python",
   "pygments_lexer": "ipython3",
   "version": "3.6.1"
  }
 },
 "nbformat": 4,
 "nbformat_minor": 2
}
